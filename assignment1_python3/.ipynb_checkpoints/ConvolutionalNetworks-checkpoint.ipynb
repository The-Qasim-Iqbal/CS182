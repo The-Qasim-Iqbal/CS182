{
 "cells": [
  {
   "cell_type": "markdown",
   "metadata": {},
   "source": [
    "# Convolutional Networks\n",
    "So far we have worked with deep fully-connected networks, using them to explore different optimization strategies and network architectures. Fully-connected networks are a good testbed for experimentation because they are very computationally efficient, but in practice all state-of-the-art results use convolutional networks instead.\n",
    "\n",
    "First you will implement several layer types that are used in convolutional networks. You will then use these layers to train a convolutional network on the CIFAR-10 dataset."
   ]
  },
  {
   "cell_type": "code",
   "execution_count": 1,
   "metadata": {},
   "outputs": [],
   "source": [
    "# As usual, a bit of setup\n",
    "\n",
    "import numpy as np\n",
    "import matplotlib.pyplot as plt\n",
    "from deeplearning.classifiers.cnn import *\n",
    "from deeplearning.data_utils import get_CIFAR10_data\n",
    "from deeplearning.gradient_check import eval_numerical_gradient_array, eval_numerical_gradient\n",
    "from deeplearning.layers import *\n",
    "from deeplearning.fast_layers import *\n",
    "from deeplearning.solver import Solver\n",
    "\n",
    "%matplotlib inline\n",
    "plt.rcParams['figure.figsize'] = (10.0, 8.0) # set default size of plots\n",
    "plt.rcParams['image.interpolation'] = 'nearest'\n",
    "plt.rcParams['image.cmap'] = 'gray'\n",
    "\n",
    "# for auto-reloading external modules\n",
    "# see http://stackoverflow.com/questions/1907993/autoreload-of-modules-in-ipython\n",
    "%load_ext autoreload\n",
    "%autoreload 2\n",
    "\n",
    "def rel_error(x, y):\n",
    "    \"\"\" returns relative error \"\"\"\n",
    "    return np.max(np.abs(x - y) / (np.maximum(1e-8, np.abs(x) + np.abs(y))))"
   ]
  },
  {
   "cell_type": "code",
   "execution_count": 2,
   "metadata": {},
   "outputs": [
    {
     "name": "stdout",
     "output_type": "stream",
     "text": [
      "deeplearning/datasets/cifar-10-batches-py/data_batch_1\n",
      "deeplearning/datasets/cifar-10-batches-py/data_batch_2\n",
      "deeplearning/datasets/cifar-10-batches-py/data_batch_3\n",
      "deeplearning/datasets/cifar-10-batches-py/data_batch_4\n",
      "deeplearning/datasets/cifar-10-batches-py/data_batch_5\n",
      "deeplearning/datasets/cifar-10-batches-py/test_batch\n",
      "X_train:  (49000, 3, 32, 32)\n",
      "y_train:  (49000,)\n",
      "X_val:  (1000, 3, 32, 32)\n",
      "y_val:  (1000,)\n",
      "X_test:  (1000, 3, 32, 32)\n",
      "y_test:  (1000,)\n"
     ]
    }
   ],
   "source": [
    "# Load the (preprocessed) CIFAR10 data.\n",
    "\n",
    "data = get_CIFAR10_data()\n",
    "for k, v in data.items():\n",
    "    print ('%s: ' % k, v.shape)"
   ]
  },
  {
   "cell_type": "markdown",
   "metadata": {},
   "source": [
    "# Convolution: Naive forward pass\n",
    "The core of a convolutional network is the convolution operation. In the file `deeplearning/layers.py`, implement the forward pass for the convolution layer in the function `conv_forward_naive`. \n",
    "\n",
    "You don't have to worry too much about efficiency at this point; just write the code in whatever way you find most clear.\n",
    "\n",
    "You can test your implementation by running the following:"
   ]
  },
  {
   "cell_type": "code",
   "execution_count": null,
   "metadata": {},
   "outputs": [],
   "source": [
    "x_shape = (2, 3, 4, 4)\n",
    "w_shape = (3, 3, 4, 4)\n",
    "x = np.linspace(-0.1, 0.5, num=np.prod(x_shape)).reshape(x_shape)\n",
    "w = np.linspace(-0.2, 0.3, num=np.prod(w_shape)).reshape(w_shape)\n",
    "b = np.linspace(-0.1, 0.2, num=3)\n",
    "\n",
    "conv_param = {'stride': 2, 'pad': 1}\n",
    "out, _ = conv_forward_naive(x, w, b, conv_param)\n",
    "correct_out = np.array([[[[[-0.08759809, -0.10987781],\n",
    "                           [-0.18387192, -0.2109216 ]],\n",
    "                          [[ 0.21027089,  0.21661097],\n",
    "                           [ 0.22847626,  0.23004637]],\n",
    "                          [[ 0.50813986,  0.54309974],\n",
    "                           [ 0.64082444,  0.67101435]]],\n",
    "                         [[[-0.98053589, -1.03143541],\n",
    "                           [-1.19128892, -1.24695841]],\n",
    "                          [[ 0.69108355,  0.66880383],\n",
    "                           [ 0.59480972,  0.56776003]],\n",
    "                          [[ 2.36270298,  2.36904306],\n",
    "                           [ 2.38090835,  2.38247847]]]]])\n",
    "\n",
    "# Compare your output to ours; difference should be around 1e-8\n",
    "print ('Testing conv_forward_naive')\n",
    "print ('difference: ', rel_error(out, correct_out))"
   ]
  },
  {
   "cell_type": "markdown",
   "metadata": {},
   "source": [
    "# Aside: Image processing via convolutions\n",
    "\n",
    "As fun way to both check your implementation and gain a better understanding of the type of operation that convolutional layers can perform, we will set up an input containing two images and manually set up filters that perform common image processing operations (grayscale conversion and edge detection). The convolution forward pass will apply these operations to each of the input images. We can then visualize the results as a sanity check."
   ]
  },
  {
   "cell_type": "markdown",
   "metadata": {},
   "source": [
    "# Convolution: Naive backward pass\n",
    "Implement the backward pass for the convolution operation in the function `conv_backward_naive` in the file `deeplearning/layers.py`. Again, you don't need to worry too much about computational efficiency.\n",
    "\n",
    "When you are done, run the following to check your backward pass with a numeric gradient check."
   ]
  },
  {
   "cell_type": "code",
   "execution_count": null,
   "metadata": {},
   "outputs": [],
   "source": [
    "from skimage.transform import resize as imresize\n",
    "from imageio import imread\n",
    "\n",
    "kitten, puppy = imread('kitten.jpg'), imread('puppy.jpg')\n",
    "# kitten is wide, and puppy is already square\n",
    "d = kitten.shape[1] - kitten.shape[0]\n",
    "kitten_cropped = kitten[:, d//2:-d//2, :]\n",
    "\n",
    "img_size = 200   # Make this smaller if it runs too slow\n",
    "x = np.zeros((2, 3, img_size, img_size))\n",
    "x[0, :, :, :] = imresize(puppy, (img_size, img_size)).transpose((2, 0, 1))\n",
    "x[1, :, :, :] = imresize(kitten_cropped, (img_size, img_size)).transpose((2, 0, 1))\n",
    "\n",
    "# Set up a convolutional weights holding 2 filters, each 3x3\n",
    "w = np.zeros((2, 3, 3, 3))\n",
    "\n",
    "# The first filter converts the image to grayscale.\n",
    "# Set up the red, green, and blue channels of the filter.\n",
    "w[0, 0, :, :] = [[0, 0, 0], [0, 0.3, 0], [0, 0, 0]]\n",
    "w[0, 1, :, :] = [[0, 0, 0], [0, 0.6, 0], [0, 0, 0]]\n",
    "w[0, 2, :, :] = [[0, 0, 0], [0, 0.1, 0], [0, 0, 0]]\n",
    "\n",
    "# Second filter detects horizontal edges in the blue channel.\n",
    "w[1, 2, :, :] = [[1, 2, 1], [0, 0, 0], [-1, -2, -1]]\n",
    "\n",
    "# Vector of biases. We don't need any bias for the grayscale\n",
    "# filter, but for the edge detection filter we want to add 128\n",
    "# to each output so that nothing is negative.\n",
    "b = np.array([0, 128])\n",
    "\n",
    "# Compute the result of convolving each input in x with each filter in w,\n",
    "# offsetting by b, and storing the results in out.\n",
    "out, _ = conv_forward_naive(x, w, b, {'stride': 1, 'pad': 1})\n",
    "\n",
    "def imshow_noax(img, normalize=True):\n",
    "    \"\"\" Tiny helper to show images as uint8 and remove axis labels \"\"\"\n",
    "    if normalize:\n",
    "        img_max, img_min = np.max(img), np.min(img)\n",
    "        img = 255.0 * (img - img_min) / (img_max - img_min)\n",
    "    plt.imshow(img.astype('uint8'))\n",
    "    plt.gca().axis('off')\n",
    "\n",
    "# Show the original images and the results of the conv operation\n",
    "plt.subplot(2, 3, 1)\n",
    "imshow_noax(puppy, normalize=False)\n",
    "plt.title('Original image')\n",
    "plt.subplot(2, 3, 2)\n",
    "imshow_noax(out[0, 0])\n",
    "plt.title('Grayscale')\n",
    "plt.subplot(2, 3, 3)\n",
    "imshow_noax(out[0, 1])\n",
    "plt.title('Edges')\n",
    "plt.subplot(2, 3, 4)\n",
    "imshow_noax(kitten_cropped, normalize=False)\n",
    "plt.subplot(2, 3, 5)\n",
    "imshow_noax(out[1, 0])\n",
    "plt.subplot(2, 3, 6)\n",
    "imshow_noax(out[1, 1])\n",
    "plt.show()"
   ]
  },
  {
   "cell_type": "code",
   "execution_count": null,
   "metadata": {},
   "outputs": [],
   "source": [
    "x = np.random.randn(4, 3, 5, 5)\n",
    "w = np.random.randn(2, 3, 3, 3)\n",
    "b = np.random.randn(2,)\n",
    "dout = np.random.randn(4, 2, 5, 5)\n",
    "conv_param = {'stride': 1, 'pad': 1}\n",
    "\n",
    "dx_num = eval_numerical_gradient_array(lambda x: conv_forward_naive(x, w, b, conv_param)[0], x, dout)\n",
    "dw_num = eval_numerical_gradient_array(lambda w: conv_forward_naive(x, w, b, conv_param)[0], w, dout)\n",
    "db_num = eval_numerical_gradient_array(lambda b: conv_forward_naive(x, w, b, conv_param)[0], b, dout)\n",
    "\n",
    "out, cache = conv_forward_naive(x, w, b, conv_param)\n",
    "dx, dw, db = conv_backward_naive(dout, cache)\n",
    "\n",
    "# Your errors should be around 1e-9'\n",
    "print ('Testing conv_backward_naive function')\n",
    "print ('dx error: ', rel_error(dx, dx_num))\n",
    "print ('dw error: ', rel_error(dw, dw_num))\n",
    "print ('db error: ', rel_error(db, db_num))"
   ]
  },
  {
   "cell_type": "markdown",
   "metadata": {},
   "source": [
    "# Max pooling: Naive forward\n",
    "Implement the forward pass for the max-pooling operation in the function `max_pool_forward_naive` in the file `deeplearning/layers.py`. Again, don't worry too much about computational efficiency.\n",
    "\n",
    "Check your implementation by running the following:"
   ]
  },
  {
   "cell_type": "code",
   "execution_count": null,
   "metadata": {},
   "outputs": [],
   "source": [
    "x_shape = (2, 3, 4, 4)\n",
    "x = np.linspace(-0.3, 0.4, num=np.prod(x_shape)).reshape(x_shape)\n",
    "pool_param = {'pool_width': 2, 'pool_height': 2, 'stride': 2}\n",
    "\n",
    "out, _ = max_pool_forward_naive(x, pool_param)\n",
    "\n",
    "correct_out = np.array([[[[-0.26315789, -0.24842105],\n",
    "                          [-0.20421053, -0.18947368]],\n",
    "                         [[-0.14526316, -0.13052632],\n",
    "                          [-0.08631579, -0.07157895]],\n",
    "                         [[-0.02736842, -0.01263158],\n",
    "                          [ 0.03157895,  0.04631579]]],\n",
    "                        [[[ 0.09052632,  0.10526316],\n",
    "                          [ 0.14947368,  0.16421053]],\n",
    "                         [[ 0.20842105,  0.22315789],\n",
    "                          [ 0.26736842,  0.28210526]],\n",
    "                         [[ 0.32631579,  0.34105263],\n",
    "                          [ 0.38526316,  0.4       ]]]])\n",
    "\n",
    "# Compare your output with ours. Difference should be around 1e-8.\n",
    "print ('Testing max_pool_forward_naive function:')\n",
    "print ('difference: ', rel_error(out, correct_out))"
   ]
  },
  {
   "cell_type": "markdown",
   "metadata": {},
   "source": [
    "# Max pooling: Naive backward\n",
    "Implement the backward pass for the max-pooling operation in the function `max_pool_backward_naive` in the file `deeplearning/layers.py`. You don't need to worry about computational efficiency.\n",
    "\n",
    "Check your implementation with numeric gradient checking by running the following:"
   ]
  },
  {
   "cell_type": "code",
   "execution_count": null,
   "metadata": {},
   "outputs": [],
   "source": [
    "x = np.random.randn(3, 2, 8, 8)\n",
    "dout = np.random.randn(3, 2, 4, 4)\n",
    "pool_param = {'pool_height': 2, 'pool_width': 2, 'stride': 2}\n",
    "\n",
    "dx_num = eval_numerical_gradient_array(lambda x: max_pool_forward_naive(x, pool_param)[0], x, dout)\n",
    "\n",
    "out, cache = max_pool_forward_naive(x, pool_param)\n",
    "dx = max_pool_backward_naive(dout, cache)\n",
    "\n",
    "# Your error should be around 1e-12\n",
    "print ('Testing max_pool_backward_naive function:')\n",
    "print ('dx error: ', rel_error(dx, dx_num))"
   ]
  },
  {
   "cell_type": "markdown",
   "metadata": {},
   "source": [
    "# Fast layers\n",
    "Making convolution and pooling layers fast can be challenging. To spare you the pain, we've provided fast implementations of the forward and backward passes for convolution and pooling layers in the file `deeplearning/fast_layers.py`.\n",
    "\n",
    "The fast convolution implementation depends on a Cython extension; to compile it you need to run the following from the `deeplearning` directory:\n",
    "\n",
    "```bash\n",
    "python setup.py build_ext --inplace\n",
    "```\n",
    "\n",
    "The API for the fast versions of the convolution and pooling layers is exactly the same as the naive versions that you implemented above: the forward pass receives data, weights, and parameters and produces outputs and a cache object; the backward pass recieves upstream derivatives and the cache object and produces gradients with respect to the data and weights.\n",
    "\n",
    "**NOTE:** The fast implementation for pooling will only perform optimally if the pooling regions are non-overlapping and tile the input. If these conditions are not met then the fast pooling implementation will not be much faster than the naive implementation.\n",
    "\n",
    "You can compare the performance of the naive and fast versions of these layers by running the following:"
   ]
  },
  {
   "cell_type": "code",
   "execution_count": null,
   "metadata": {},
   "outputs": [],
   "source": [
    "from deeplearning.fast_layers import conv_forward_fast, conv_backward_fast\n",
    "from time import time\n",
    "\n",
    "x = np.random.randn(100, 3, 31, 31)\n",
    "w = np.random.randn(25, 3, 3, 3)\n",
    "b = np.random.randn(25,)\n",
    "dout = np.random.randn(100, 25, 16, 16)\n",
    "conv_param = {'stride': 2, 'pad': 1}\n",
    "\n",
    "t0 = time()\n",
    "out_naive, cache_naive = conv_forward_naive(x, w, b, conv_param)\n",
    "t1 = time()\n",
    "out_fast, cache_fast = conv_forward_fast(x, w, b, conv_param)\n",
    "t2 = time()\n",
    "\n",
    "print ('Testing conv_forward_fast:')\n",
    "print ('Naive: %fs' % (t1 - t0))\n",
    "print ('Fast: %fs' % (t2 - t1))\n",
    "print ('Speedup: %fx' % ((t1 - t0) / (t2 - t1)))\n",
    "print ('Difference: ', rel_error(out_naive, out_fast))\n",
    "\n",
    "t0 = time()\n",
    "dx_naive, dw_naive, db_naive = conv_backward_naive(dout, cache_naive)\n",
    "t1 = time()\n",
    "dx_fast, dw_fast, db_fast = conv_backward_fast(dout, cache_fast)\n",
    "t2 = time()\n",
    "\n",
    "print ('\\nTesting conv_backward_fast:')\n",
    "print ('Naive: %fs' % (t1 - t0))\n",
    "print ('Fast: %fs' % (t2 - t1))\n",
    "print ('Speedup: %fx' % ((t1 - t0) / (t2 - t1)))\n",
    "print ('dx difference: ', rel_error(dx_naive, dx_fast))\n",
    "print ('dw difference: ', rel_error(dw_naive, dw_fast))\n",
    "print ('db difference: ', rel_error(db_naive, db_fast))"
   ]
  },
  {
   "cell_type": "code",
   "execution_count": null,
   "metadata": {},
   "outputs": [],
   "source": [
    "from deeplearning.fast_layers import max_pool_forward_fast, max_pool_backward_fast\n",
    "\n",
    "x = np.random.randn(100, 3, 32, 32)\n",
    "dout = np.random.randn(100, 3, 16, 16)\n",
    "pool_param = {'pool_height': 2, 'pool_width': 2, 'stride': 2}\n",
    "\n",
    "t0 = time()\n",
    "out_naive, cache_naive = max_pool_forward_naive(x, pool_param)\n",
    "t1 = time()\n",
    "out_fast, cache_fast = max_pool_forward_fast(x, pool_param)\n",
    "t2 = time()\n",
    "\n",
    "print ('Testing pool_forward_fast:')\n",
    "print ('Naive: %fs' % (t1 - t0))\n",
    "print ('fast: %fs' % (t2 - t1))\n",
    "print ('speedup: %fx' % ((t1 - t0) / (t2 - t1)))\n",
    "print ('difference: ', rel_error(out_naive, out_fast))\n",
    "\n",
    "t0 = time()\n",
    "dx_naive = max_pool_backward_naive(dout, cache_naive)\n",
    "t1 = time()\n",
    "dx_fast = max_pool_backward_fast(dout, cache_fast)\n",
    "t2 = time()\n",
    "\n",
    "print ('\\nTesting pool_backward_fast:')\n",
    "print ('Naive: %fs' % (t1 - t0))\n",
    "print ('speedup: %fx' % ((t1 - t0) / (t2 - t1)))\n",
    "print ('dx difference: ', rel_error(dx_naive, dx_fast))"
   ]
  },
  {
   "cell_type": "markdown",
   "metadata": {},
   "source": [
    "# Convolutional \"sandwich\" layers\n",
    "Previously we introduced the concept of \"sandwich\" layers that combine multiple operations into commonly used patterns. In the file `deeplearning/layer_utils.py` you will find sandwich layers that implement a few commonly used patterns for convolutional networks."
   ]
  },
  {
   "cell_type": "code",
   "execution_count": 9,
   "metadata": {},
   "outputs": [
    {
     "name": "stdout",
     "output_type": "stream",
     "text": [
      "Testing conv_relu_pool\n",
      "dx error:  1.908055318126633e-08\n",
      "dw error:  8.559252970786672e-10\n",
      "db error:  1.27689923550461e-11\n"
     ]
    }
   ],
   "source": [
    "from deeplearning.layer_utils import conv_relu_pool_forward, conv_relu_pool_backward\n",
    "\n",
    "x = np.random.randn(2, 3, 16, 16)\n",
    "w = np.random.randn(3, 3, 3, 3)\n",
    "b = np.random.randn(3,)\n",
    "dout = np.random.randn(2, 3, 8, 8)\n",
    "conv_param = {'stride': 1, 'pad': 1}\n",
    "pool_param = {'pool_height': 2, 'pool_width': 2, 'stride': 2}\n",
    "\n",
    "out, cache = conv_relu_pool_forward(x, w, b, conv_param, pool_param)\n",
    "dx, dw, db = conv_relu_pool_backward(dout, cache)\n",
    "\n",
    "dx_num = eval_numerical_gradient_array(lambda x: conv_relu_pool_forward(x, w, b, conv_param, pool_param)[0], x, dout)\n",
    "dw_num = eval_numerical_gradient_array(lambda w: conv_relu_pool_forward(x, w, b, conv_param, pool_param)[0], w, dout)\n",
    "db_num = eval_numerical_gradient_array(lambda b: conv_relu_pool_forward(x, w, b, conv_param, pool_param)[0], b, dout)\n",
    "\n",
    "print ('Testing conv_relu_pool')\n",
    "print ('dx error: ', rel_error(dx_num, dx))\n",
    "print ('dw error: ', rel_error(dw_num, dw))\n",
    "print ('db error: ', rel_error(db_num, db))"
   ]
  },
  {
   "cell_type": "code",
   "execution_count": 10,
   "metadata": {},
   "outputs": [
    {
     "name": "stdout",
     "output_type": "stream",
     "text": [
      "Testing conv_relu:\n",
      "dx error:  1.8466686712024183e-09\n",
      "dw error:  3.0258754920549543e-09\n",
      "db error:  7.814954114668287e-11\n"
     ]
    }
   ],
   "source": [
    "from deeplearning.layer_utils import conv_relu_forward, conv_relu_backward\n",
    "\n",
    "x = np.random.randn(2, 3, 8, 8)\n",
    "w = np.random.randn(3, 3, 3, 3)\n",
    "b = np.random.randn(3,)\n",
    "dout = np.random.randn(2, 3, 8, 8)\n",
    "conv_param = {'stride': 1, 'pad': 1}\n",
    "\n",
    "out, cache = conv_relu_forward(x, w, b, conv_param)\n",
    "dx, dw, db = conv_relu_backward(dout, cache)\n",
    "\n",
    "dx_num = eval_numerical_gradient_array(lambda x: conv_relu_forward(x, w, b, conv_param)[0], x, dout)\n",
    "dw_num = eval_numerical_gradient_array(lambda w: conv_relu_forward(x, w, b, conv_param)[0], w, dout)\n",
    "db_num = eval_numerical_gradient_array(lambda b: conv_relu_forward(x, w, b, conv_param)[0], b, dout)\n",
    "\n",
    "print ('Testing conv_relu:')\n",
    "print ('dx error: ', rel_error(dx_num, dx))\n",
    "print ('dw error: ', rel_error(dw_num, dw))\n",
    "print ('db error: ', rel_error(db_num, db))"
   ]
  },
  {
   "cell_type": "markdown",
   "metadata": {},
   "source": [
    "# Three-layer ConvNet\n",
    "Now that you have implemented all the necessary layers, we can put them together into a simple convolutional network.\n",
    "\n",
    "Open the file `deeplearning/cnn.py` and complete the implementation of the `ThreeLayerConvNet` class. Run the following cells to help you debug:"
   ]
  },
  {
   "cell_type": "markdown",
   "metadata": {},
   "source": [
    "## Sanity check loss\n",
    "After you build a new network, one of the first things you should do is sanity check the loss. When we use the softmax loss, we expect the loss for random weights (and no regularization) to be about `log(C)` for `C` classes. When we add regularization this should go up."
   ]
  },
  {
   "cell_type": "markdown",
   "metadata": {},
   "source": [
    "## Gradient check\n",
    "After the loss looks reasonable, use numeric gradient checking to make sure that your backward pass is correct. When you use numeric gradient checking you should use a small amount of artifical data and a small number of neurons at each layer."
   ]
  },
  {
   "cell_type": "code",
   "execution_count": 8,
   "metadata": {},
   "outputs": [
    {
     "name": "stdout",
     "output_type": "stream",
     "text": [
      "Initial loss (no regularization):  2.3025854567167077\n",
      "Initial loss (with regularization):  2.5086036065694604\n"
     ]
    }
   ],
   "source": [
    "model = ThreeLayerConvNet()\n",
    "\n",
    "N = 50\n",
    "X = np.random.randn(N, 3, 32, 32)\n",
    "y = np.random.randint(10, size=N)\n",
    "\n",
    "loss, grads = model.loss(X, y)\n",
    "print ('Initial loss (no regularization): ', loss)\n",
    "\n",
    "model.reg = 0.5\n",
    "loss, grads = model.loss(X, y)\n",
    "print ('Initial loss (with regularization): ', loss)"
   ]
  },
  {
   "cell_type": "code",
   "execution_count": 4,
   "metadata": {},
   "outputs": [
    {
     "name": "stdout",
     "output_type": "stream",
     "text": [
      "W1 max relative error: 1.052943e-03\n",
      "W2 max relative error: 1.398967e-02\n",
      "W3 max relative error: 5.031959e-05\n",
      "b1 max relative error: 4.942302e-05\n",
      "b2 max relative error: 1.843851e-06\n",
      "b3 max relative error: 1.340095e-09\n"
     ]
    }
   ],
   "source": [
    "num_inputs = 2\n",
    "input_dim = (3, 16, 16)\n",
    "reg = 0.0\n",
    "num_classes = 10\n",
    "X = np.random.randn(num_inputs, *input_dim)\n",
    "y = np.random.randint(num_classes, size=num_inputs)\n",
    "\n",
    "model = ThreeLayerConvNet(num_filters=3, filter_size=3,\n",
    "                          input_dim=input_dim, hidden_dim=7,\n",
    "                          dtype=np.float64)\n",
    "loss, grads = model.loss(X, y)\n",
    "for param_name in sorted(grads):\n",
    "    f = lambda _: model.loss(X, y)[0]\n",
    "    param_grad_num = eval_numerical_gradient(f, model.params[param_name], verbose=False, h=1e-6)\n",
    "    e = rel_error(param_grad_num, grads[param_name])\n",
    "    print ('%s max relative error: %e' % (param_name, rel_error(param_grad_num, grads[param_name])))"
   ]
  },
  {
   "cell_type": "markdown",
   "metadata": {},
   "source": [
    "## Overfit small data\n",
    "A nice trick is to train your model with just a few training samples. You should be able to overfit small datasets, which will result in very high training accuracy and comparatively low validation accuracy."
   ]
  },
  {
   "cell_type": "code",
   "execution_count": 11,
   "metadata": {},
   "outputs": [
    {
     "name": "stdout",
     "output_type": "stream",
     "text": [
      "(Iteration 1 / 20) loss: 2.464944\n",
      "(Epoch 0 / 10) train acc: 0.200000; val_acc: 0.151000\n",
      "(Iteration 2 / 20) loss: 4.342813\n",
      "(Epoch 1 / 10) train acc: 0.220000; val_acc: 0.139000\n",
      "(Iteration 3 / 20) loss: 3.179704\n",
      "(Iteration 4 / 20) loss: 2.368716\n",
      "(Epoch 2 / 10) train acc: 0.240000; val_acc: 0.141000\n",
      "(Iteration 5 / 20) loss: 2.217685\n",
      "(Iteration 6 / 20) loss: 1.990082\n",
      "(Epoch 3 / 10) train acc: 0.350000; val_acc: 0.139000\n",
      "(Iteration 7 / 20) loss: 2.094458\n",
      "(Iteration 8 / 20) loss: 2.182663\n",
      "(Epoch 4 / 10) train acc: 0.300000; val_acc: 0.147000\n",
      "(Iteration 9 / 20) loss: 1.986420\n",
      "(Iteration 10 / 20) loss: 1.800805\n",
      "(Epoch 5 / 10) train acc: 0.410000; val_acc: 0.167000\n",
      "(Iteration 11 / 20) loss: 1.665189\n",
      "(Iteration 12 / 20) loss: 1.583013\n",
      "(Epoch 6 / 10) train acc: 0.570000; val_acc: 0.187000\n",
      "(Iteration 13 / 20) loss: 1.540403\n",
      "(Iteration 14 / 20) loss: 1.307563\n",
      "(Epoch 7 / 10) train acc: 0.600000; val_acc: 0.217000\n",
      "(Iteration 15 / 20) loss: 1.437811\n",
      "(Iteration 16 / 20) loss: 1.148544\n",
      "(Epoch 8 / 10) train acc: 0.650000; val_acc: 0.228000\n",
      "(Iteration 17 / 20) loss: 1.022250\n",
      "(Iteration 18 / 20) loss: 0.886615\n",
      "(Epoch 9 / 10) train acc: 0.680000; val_acc: 0.198000\n",
      "(Iteration 19 / 20) loss: 1.019749\n",
      "(Iteration 20 / 20) loss: 0.823545\n",
      "(Epoch 10 / 10) train acc: 0.770000; val_acc: 0.195000\n"
     ]
    }
   ],
   "source": [
    "num_train = 100\n",
    "small_data = {\n",
    "  'X_train': data['X_train'][:num_train],\n",
    "  'y_train': data['y_train'][:num_train],\n",
    "  'X_val': data['X_val'],\n",
    "  'y_val': data['y_val'],\n",
    "}\n",
    "\n",
    "model = ThreeLayerConvNet(weight_scale=1e-2)\n",
    "\n",
    "solver = Solver(model, small_data,\n",
    "                num_epochs=10, batch_size=50,\n",
    "                update_rule='adam',\n",
    "                optim_config={\n",
    "                  'learning_rate': 1e-3,\n",
    "                },\n",
    "                verbose=True, print_every=1)\n",
    "solver.train()"
   ]
  },
  {
   "cell_type": "markdown",
   "metadata": {},
   "source": [
    "Plotting the loss, training accuracy, and validation accuracy should show clear overfitting:"
   ]
  },
  {
   "cell_type": "code",
   "execution_count": 12,
   "metadata": {},
   "outputs": [
    {
     "data": {
      "image/png": "[encoded data removed]",
      "text/plain": [
       "<Figure size 432x288 with 2 Axes>"
      ]
     },
     "metadata": {
      "needs_background": "light"
     },
     "output_type": "display_data"
    }
   ],
   "source": [
    "plt.subplot(2, 1, 1)\n",
    "plt.plot(solver.loss_history, 'o')\n",
    "plt.xlabel('iteration')\n",
    "plt.ylabel('loss')\n",
    "\n",
    "plt.subplot(2, 1, 2)\n",
    "plt.plot(solver.train_acc_history, '-o')\n",
    "plt.plot(solver.val_acc_history, '-o')\n",
    "plt.legend(['train', 'val'], loc='upper left')\n",
    "plt.xlabel('epoch')\n",
    "plt.ylabel('accuracy')\n",
    "plt.show()"
   ]
  },
  {
   "cell_type": "markdown",
   "metadata": {},
   "source": [
    "## Train the net\n",
    "By training the three-layer convolutional network for one epoch, you should achieve greater than 40% accuracy on the training set:"
   ]
  },
  {
   "cell_type": "code",
   "execution_count": 13,
   "metadata": {
    "scrolled": false
   },
   "outputs": [
    {
     "name": "stdout",
     "output_type": "stream",
     "text": [
      "(Iteration 1 / 980) loss: 2.304747\n",
      "(Epoch 0 / 1) train acc: 0.083000; val_acc: 0.078000\n",
      "(Iteration 21 / 980) loss: 2.342998\n",
      "(Iteration 41 / 980) loss: 1.995393\n",
      "(Iteration 61 / 980) loss: 2.136756\n",
      "(Iteration 81 / 980) loss: 2.047474\n",
      "(Iteration 101 / 980) loss: 1.717385\n",
      "(Iteration 121 / 980) loss: 1.832417\n",
      "(Iteration 141 / 980) loss: 1.860582\n",
      "(Iteration 161 / 980) loss: 1.557765\n",
      "(Iteration 181 / 980) loss: 1.724057\n",
      "(Iteration 201 / 980) loss: 1.833183\n",
      "(Iteration 221 / 980) loss: 1.628343\n",
      "(Iteration 241 / 980) loss: 1.623689\n",
      "(Iteration 261 / 980) loss: 1.689588\n",
      "(Iteration 281 / 980) loss: 1.537456\n",
      "(Iteration 301 / 980) loss: 1.923081\n",
      "(Iteration 321 / 980) loss: 1.731956\n",
      "(Iteration 341 / 980) loss: 1.428157\n",
      "(Iteration 361 / 980) loss: 1.751533\n",
      "(Iteration 381 / 980) loss: 1.335406\n",
      "(Iteration 401 / 980) loss: 1.894093\n",
      "(Iteration 421 / 980) loss: 1.651876\n",
      "(Iteration 441 / 980) loss: 1.579463\n",
      "(Iteration 461 / 980) loss: 1.746220\n",
      "(Iteration 481 / 980) loss: 1.659601\n",
      "(Iteration 501 / 980) loss: 1.514157\n",
      "(Iteration 521 / 980) loss: 1.372677\n",
      "(Iteration 541 / 980) loss: 1.604589\n",
      "(Iteration 561 / 980) loss: 1.398487\n",
      "(Iteration 581 / 980) loss: 1.722273\n",
      "(Iteration 601 / 980) loss: 1.547912\n",
      "(Iteration 621 / 980) loss: 1.792977\n",
      "(Iteration 641 / 980) loss: 1.649252\n",
      "(Iteration 661 / 980) loss: 1.489334\n",
      "(Iteration 681 / 980) loss: 1.726743\n",
      "(Iteration 701 / 980) loss: 1.516251\n",
      "(Iteration 721 / 980) loss: 1.444353\n",
      "(Iteration 741 / 980) loss: 1.902425\n",
      "(Iteration 761 / 980) loss: 1.897015\n",
      "(Iteration 781 / 980) loss: 1.644128\n",
      "(Iteration 801 / 980) loss: 1.551297\n",
      "(Iteration 821 / 980) loss: 1.998315\n",
      "(Iteration 841 / 980) loss: 1.596834\n",
      "(Iteration 861 / 980) loss: 1.989359\n",
      "(Iteration 881 / 980) loss: 1.582389\n",
      "(Iteration 901 / 980) loss: 1.446191\n",
      "(Iteration 921 / 980) loss: 1.503743\n",
      "(Iteration 941 / 980) loss: 1.554498\n",
      "(Iteration 961 / 980) loss: 1.383961\n",
      "(Epoch 1 / 1) train acc: 0.453000; val_acc: 0.466000\n"
     ]
    }
   ],
   "source": [
    "model = ThreeLayerConvNet(weight_scale=0.001, hidden_dim=500, reg=0.001)\n",
    "\n",
    "solver = Solver(model, data,\n",
    "                num_epochs=1, batch_size=50,\n",
    "                update_rule='adam',\n",
    "                optim_config={\n",
    "                  'learning_rate': 1e-3,\n",
    "                },\n",
    "                verbose=True, print_every=20)\n",
    "solver.train()"
   ]
  },
  {
   "cell_type": "markdown",
   "metadata": {},
   "source": [
    "## Visualize Filters\n",
    "You can visualize the first-layer convolutional filters from the trained network by running the following:"
   ]
  },
  {
   "cell_type": "code",
   "execution_count": 14,
   "metadata": {},
   "outputs": [
    {
     "data": {
      "image/png": "[encoded data removed]",
      "text/plain": [
       "<Figure size 360x360 with 1 Axes>"
      ]
     },
     "metadata": {
      "needs_background": "light"
     },
     "output_type": "display_data"
    }
   ],
   "source": [
    "from deeplearning.vis_utils import visualize_grid\n",
    "\n",
    "grid = visualize_grid(model.params['W1'].transpose(0, 2, 3, 1))\n",
    "plt.imshow(grid.astype('uint8'))\n",
    "plt.axis('off')\n",
    "plt.gcf().set_size_inches(5, 5)\n",
    "plt.show()"
   ]
  },
  {
   "cell_type": "markdown",
   "metadata": {},
   "source": [
    "# Spatial Batch Normalization\n",
    "We already saw that batch normalization is a very useful technique for training deep fully-connected networks. Batch normalization can also be used for convolutional networks, but we need to tweak it a bit; the modification will be called \"spatial batch normalization.\"\n",
    "\n",
    "Normally batch-normalization accepts inputs of shape `(N, D)` and produces outputs of shape `(N, D)`, where we normalize across the minibatch dimension `N`. For data coming from convolutional layers, batch normalization needs to accept inputs of shape `(N, C, H, W)` and produce outputs of shape `(N, C, H, W)` where the `N` dimension gives the minibatch size and the `(H, W)` dimensions give the spatial size of the feature map.\n",
    "\n",
    "If the feature map was produced using convolutions, then we expect the statistics of each feature channel to be relatively consistent both between different imagesand different locations within the same image. Therefore spatial batch normalization computes a mean and variance for each of the `C` feature channels by computing statistics over both the minibatch dimension `N` and the spatial dimensions `H` and `W`."
   ]
  },
  {
   "cell_type": "markdown",
   "metadata": {},
   "source": [
    "## Spatial batch normalization: forward\n",
    "\n",
    "In the file `deeplearning/layers.py`, implement the forward pass for spatial batch normalization in the function `spatial_batchnorm_forward`. Check your implementation by running the following:"
   ]
  },
  {
   "cell_type": "code",
   "execution_count": 174,
   "metadata": {},
   "outputs": [
    {
     "name": "stdout",
     "output_type": "stream",
     "text": [
      "Before spatial batch normalization:\n",
      "  Shape:  (2, 3, 4, 5)\n",
      "  Means:  [9.4928858  9.47237775 9.96905868]\n",
      "  Stds:  [3.91907366 3.84435493 4.28797298]\n",
      "After spatial batch normalization:\n",
      "  Shape:  (2, 3, 4, 5)\n",
      "  Means:  [ 8.79851747e-16 -2.33146835e-16  7.71605002e-16]\n",
      "  Stds:  [0.99999967 0.99999966 0.99999973]\n",
      "After spatial batch normalization (nontrivial gamma, beta):\n",
      "  Shape:  (2, 3, 4, 5)\n",
      "  Means:  [6. 7. 8.]\n",
      "  Stds:  [2.99999902 3.99999865 4.99999864]\n"
     ]
    }
   ],
   "source": [
    "# Check the training-time forward pass by checking means and variances\n",
    "# of features both before and after spatial batch normalization\n",
    "\n",
    "N, C, H, W = 2, 3, 4, 5\n",
    "x = 4 * np.random.randn(N, C, H, W) + 10\n",
    "\n",
    "print ('Before spatial batch normalization:')\n",
    "print ('  Shape: ', x.shape)\n",
    "print ('  Means: ', x.mean(axis=(0, 2, 3)))\n",
    "print ('  Stds: ', x.std(axis=(0, 2, 3)))\n",
    "\n",
    "# Means should be close to zero and stds close to one\n",
    "gamma, beta = np.ones(C), np.zeros(C)\n",
    "bn_param = {'mode': 'train'}\n",
    "out, _ = spatial_batchnorm_forward(x, gamma, beta, bn_param)\n",
    "print ('After spatial batch normalization:')\n",
    "print ('  Shape: ', out.shape)\n",
    "print ('  Means: ', out.mean(axis=(0, 2, 3)))\n",
    "print ('  Stds: ', out.std(axis=(0, 2, 3)))\n",
    "\n",
    "# Means should be close to beta and stds close to gamma\n",
    "gamma, beta = np.asarray([3, 4, 5]), np.asarray([6, 7, 8])\n",
    "out, _ = spatial_batchnorm_forward(x, gamma, beta, bn_param)\n",
    "print ('After spatial batch normalization (nontrivial gamma, beta):')\n",
    "print ('  Shape: ', out.shape)\n",
    "print ('  Means: ', out.mean(axis=(0, 2, 3)))\n",
    "print ('  Stds: ', out.std(axis=(0, 2, 3)))"
   ]
  },
  {
   "cell_type": "code",
   "execution_count": 175,
   "metadata": {},
   "outputs": [
    {
     "name": "stdout",
     "output_type": "stream",
     "text": [
      "After spatial batch normalization (test-time):\n",
      "  means:  [-0.02675021  0.011022    0.05740682  0.01304519]\n",
      "  stds:  [0.99436671 0.99552596 0.96413153 1.01510824]\n"
     ]
    }
   ],
   "source": [
    "# Check the test-time forward pass by running the training-time\n",
    "# forward pass many times to warm up the running averages, and then\n",
    "# checking the means and variances of activations after a test-time\n",
    "# forward pass.\n",
    "\n",
    "N, C, H, W = 10, 4, 11, 12\n",
    "\n",
    "bn_param = {'mode': 'train'}\n",
    "gamma = np.ones(C)\n",
    "beta = np.zeros(C)\n",
    "for t in range(50):\n",
    "    x = 2.3 * np.random.randn(N, C, H, W) + 13\n",
    "    spatial_batchnorm_forward(x, gamma, beta, bn_param)\n",
    "bn_param['mode'] = 'test'\n",
    "x = 2.3 * np.random.randn(N, C, H, W) + 13\n",
    "a_norm, _ = spatial_batchnorm_forward(x, gamma, beta, bn_param)\n",
    "\n",
    "# Means should be close to zero and stds close to one, but will be\n",
    "# noisier than training-time forward passes.\n",
    "print ('After spatial batch normalization (test-time):')\n",
    "print ('  means: ', a_norm.mean(axis=(0, 2, 3)))\n",
    "print ('  stds: ', a_norm.std(axis=(0, 2, 3)))"
   ]
  },
  {
   "cell_type": "markdown",
   "metadata": {},
   "source": [
    "## Spatial batch normalization: backward\n",
    "In the file `deeplearning/layers.py`, implement the backward pass for spatial batch normalization in the function `spatial_batchnorm_backward`. Run the following to check your implementation using a numeric gradient check:"
   ]
  },
  {
   "cell_type": "code",
   "execution_count": 177,
   "metadata": {},
   "outputs": [
    {
     "name": "stdout",
     "output_type": "stream",
     "text": [
      "dx error:  1.497858213745928e-08\n",
      "dgamma error:  3.739771737447504e-11\n",
      "dbeta error:  2.277806677843622e-12\n"
     ]
    }
   ],
   "source": [
    "N, C, H, W = 2, 3, 4, 5\n",
    "x = 5 * np.random.randn(N, C, H, W) + 12\n",
    "gamma = np.random.randn(C)\n",
    "beta = np.random.randn(C)\n",
    "dout = np.random.randn(N, C, H, W)\n",
    "\n",
    "bn_param = {'mode': 'train'}\n",
    "fx = lambda x: spatial_batchnorm_forward(x, gamma, beta, bn_param)[0]\n",
    "fg = lambda a: spatial_batchnorm_forward(x, gamma, beta, bn_param)[0]\n",
    "fb = lambda b: spatial_batchnorm_forward(x, gamma, beta, bn_param)[0]\n",
    "\n",
    "dx_num = eval_numerical_gradient_array(fx, x, dout)\n",
    "da_num = eval_numerical_gradient_array(fg, gamma, dout)\n",
    "db_num = eval_numerical_gradient_array(fb, beta, dout)\n",
    "\n",
    "_, cache = spatial_batchnorm_forward(x, gamma, beta, bn_param)\n",
    "dx, dgamma, dbeta = spatial_batchnorm_backward(dout, cache)\n",
    "print ('dx error: ', rel_error(dx_num, dx))\n",
    "print ('dgamma error: ', rel_error(da_num, dgamma))\n",
    "print ('dbeta error: ', rel_error(db_num, dbeta))"
   ]
  },
  {
   "cell_type": "markdown",
   "metadata": {},
   "source": [
    "# Experiment!\n",
    "Experiment and try to get the best performance that you can on CIFAR-10 using a ConvNet. Here are some ideas to get you started:\n",
    "\n",
    "### Things you should try:\n",
    "- Filter size: Above we used 7x7; this makes pretty pictures but smaller filters may be more efficient\n",
    "- Number of filters: Above we used 32 filters. Do more or fewer do better?\n",
    "- Batch normalization: Try adding spatial batch normalization after convolution layers and vanilla batch normalization aafter affine layers. Do your networks train faster?\n",
    "- Network architecture: The network above has two layers of trainable parameters. Can you do better with a deeper network? You can implement alternative architectures in the file `deeplearning/classifiers/convnet.py`. Some good architectures to try include:\n",
    "    - [conv-relu-pool]xN - conv - relu - [affine]xM - [softmax or SVM]\n",
    "    - [conv-relu-pool]XN - [affine]XM - [softmax or SVM]\n",
    "    - [conv-relu-conv-relu-pool]xN - [affine]xM - [softmax or SVM]\n",
    "\n",
    "### Tips for training\n",
    "For each network architecture that you try, you should tune the learning rate and regularization strength. When doing this there are a couple important things to keep in mind:\n",
    "\n",
    "- If the parameters are working well, you should see improvement within a few hundred iterations\n",
    "- Remember the course-to-fine approach for hyperparameter tuning: start by testing a large range of hyperparameters for just a few training iterations to find the combinations of parameters that are working at all.\n",
    "- Once you have found some sets of parameters that seem to work, search more finely around these parameters. You may need to train for more epochs.\n",
    "\n",
    "### Going above and beyond\n",
    "If you are feeling adventurous there are many other features you can implement to try and improve your performance. You are **not required** to implement any of these; however they would be good things to try for extra credit.\n",
    "\n",
    "- Alternative update steps: For the assignment we implemented SGD+momentum, RMSprop, and Adam; you could try alternatives like AdaGrad or AdaDelta.\n",
    "- Alternative activation functions such as leaky ReLU, parametric ReLU, or MaxOut.\n",
    "- Model ensembles\n",
    "- Data augmentation\n",
    "\n",
    "If you do decide to implement something extra, clearly describe it in the \"Extra Credit Description\" cell below.\n",
    "\n",
    "### What we expect\n",
    "At the very least, you should be able to train a ConvNet that gets at least 65% accuracy on the validation set. This is just a lower bound - if you are careful it should be possible to get accuracies much higher than that! Extra credit points will be awarded for particularly high-scoring models or unique approaches.\n",
    "\n",
    "You should use the space below to experiment and train your network. The final cell in this notebook should contain the training, validation, and test set accuracies for your final trained network. In this notebook you should also write an explanation of what you did, any additional features that you implemented, and any visualizations or graphs that you make in the process of training and evaluating your network.\n",
    "\n",
    "Have fun and happy training!"
   ]
  },
  {
   "cell_type": "code",
   "execution_count": null,
   "metadata": {},
   "outputs": [],
   "source": []
  },
  {
   "cell_type": "code",
   "execution_count": 189,
   "metadata": {
    "scrolled": true
   },
   "outputs": [
    {
     "name": "stdout",
     "output_type": "stream",
     "text": [
      "__________________________________________\n",
      "Now Using:  50 ,  0.001 ,  0.0001 ,  0.0001\n",
      "(Iteration 1 / 1910) loss: 2.302587\n",
      "(Epoch 0 / 5) train acc: 0.146000; val_acc: 0.148000\n",
      "(Iteration 51 / 1910) loss: 2.175900\n",
      "(Iteration 101 / 1910) loss: 1.838966\n",
      "(Iteration 151 / 1910) loss: 1.891821\n",
      "(Iteration 201 / 1910) loss: 1.720591\n",
      "(Iteration 251 / 1910) loss: 1.707815\n",
      "(Iteration 301 / 1910) loss: 1.633978\n",
      "(Iteration 351 / 1910) loss: 1.779954\n",
      "(Epoch 1 / 5) train acc: 0.457000; val_acc: 0.431000\n",
      "(Iteration 401 / 1910) loss: 1.587996\n",
      "(Iteration 451 / 1910) loss: 1.573087\n",
      "(Iteration 501 / 1910) loss: 1.554050\n",
      "(Iteration 551 / 1910) loss: 1.441765\n",
      "(Iteration 601 / 1910) loss: 1.460677\n",
      "(Iteration 651 / 1910) loss: 1.470435\n",
      "(Iteration 701 / 1910) loss: 1.452038\n",
      "(Iteration 751 / 1910) loss: 1.370022\n",
      "(Epoch 2 / 5) train acc: 0.526000; val_acc: 0.501000\n",
      "(Iteration 801 / 1910) loss: 1.459371\n",
      "(Iteration 851 / 1910) loss: 1.425314\n",
      "(Iteration 901 / 1910) loss: 1.360270\n",
      "(Iteration 951 / 1910) loss: 1.418899\n",
      "(Iteration 1001 / 1910) loss: 1.277372\n",
      "(Iteration 1051 / 1910) loss: 1.403863\n",
      "(Iteration 1101 / 1910) loss: 1.192776\n",
      "(Epoch 3 / 5) train acc: 0.570000; val_acc: 0.548000\n",
      "(Iteration 1151 / 1910) loss: 1.319626\n",
      "(Iteration 1201 / 1910) loss: 1.233330\n",
      "(Iteration 1251 / 1910) loss: 1.110326\n",
      "(Iteration 1301 / 1910) loss: 1.009400\n",
      "(Iteration 1351 / 1910) loss: 1.117613\n",
      "(Iteration 1401 / 1910) loss: 1.009379\n",
      "(Iteration 1451 / 1910) loss: 1.144633\n",
      "(Iteration 1501 / 1910) loss: 1.088304\n",
      "(Epoch 4 / 5) train acc: 0.594000; val_acc: 0.583000\n",
      "(Iteration 1551 / 1910) loss: 1.030416\n",
      "(Iteration 1601 / 1910) loss: 1.061503\n",
      "(Iteration 1651 / 1910) loss: 1.238794\n",
      "(Iteration 1701 / 1910) loss: 1.101240\n",
      "(Iteration 1751 / 1910) loss: 1.127846\n",
      "(Iteration 1801 / 1910) loss: 1.057076\n",
      "(Iteration 1851 / 1910) loss: 1.332539\n",
      "(Iteration 1901 / 1910) loss: 1.153998\n",
      "(Epoch 5 / 5) train acc: 0.626000; val_acc: 0.591000\n",
      "__________________________________________\n",
      "__________________________________________\n",
      "Now Using:  50 ,  0.001 ,  1e-05 ,  0.0001\n",
      "(Iteration 1 / 1910) loss: 2.302585\n",
      "(Epoch 0 / 5) train acc: 0.118000; val_acc: 0.104000\n",
      "(Iteration 51 / 1910) loss: 2.302681\n",
      "(Iteration 101 / 1910) loss: 2.302574\n",
      "(Iteration 151 / 1910) loss: 2.078577\n",
      "(Iteration 201 / 1910) loss: 1.798301\n",
      "(Iteration 251 / 1910) loss: 1.792551\n",
      "(Iteration 301 / 1910) loss: 1.708843\n",
      "(Iteration 351 / 1910) loss: 1.686021\n",
      "(Epoch 1 / 5) train acc: 0.414000; val_acc: 0.426000\n",
      "(Iteration 401 / 1910) loss: 1.565723\n",
      "(Iteration 451 / 1910) loss: 1.657829\n",
      "(Iteration 501 / 1910) loss: 1.526772\n",
      "(Iteration 551 / 1910) loss: 1.475890\n",
      "(Iteration 601 / 1910) loss: 1.451381\n",
      "(Iteration 651 / 1910) loss: 1.650418\n",
      "(Iteration 701 / 1910) loss: 1.400090\n",
      "(Iteration 751 / 1910) loss: 1.364203\n",
      "(Epoch 2 / 5) train acc: 0.524000; val_acc: 0.504000\n",
      "(Iteration 801 / 1910) loss: 1.398967\n",
      "(Iteration 851 / 1910) loss: 1.297741\n",
      "(Iteration 901 / 1910) loss: 1.438055\n",
      "(Iteration 951 / 1910) loss: 1.440277\n",
      "(Iteration 1001 / 1910) loss: 1.314346\n",
      "(Iteration 1051 / 1910) loss: 1.257549\n",
      "(Iteration 1101 / 1910) loss: 1.247036\n",
      "(Epoch 3 / 5) train acc: 0.590000; val_acc: 0.542000\n",
      "(Iteration 1151 / 1910) loss: 1.141032\n",
      "(Iteration 1201 / 1910) loss: 1.356671\n",
      "(Iteration 1251 / 1910) loss: 1.232357\n",
      "(Iteration 1301 / 1910) loss: 1.173449\n",
      "(Iteration 1351 / 1910) loss: 1.194086\n",
      "(Iteration 1401 / 1910) loss: 1.200471\n",
      "(Iteration 1451 / 1910) loss: 1.044622\n",
      "(Iteration 1501 / 1910) loss: 1.038889\n",
      "(Epoch 4 / 5) train acc: 0.594000; val_acc: 0.594000\n",
      "(Iteration 1551 / 1910) loss: 1.072417\n",
      "(Iteration 1601 / 1910) loss: 1.154647\n",
      "(Iteration 1651 / 1910) loss: 1.104652\n",
      "(Iteration 1701 / 1910) loss: 1.047873\n",
      "(Iteration 1751 / 1910) loss: 0.948229\n",
      "(Iteration 1801 / 1910) loss: 1.092872\n",
      "(Iteration 1851 / 1910) loss: 1.086490\n",
      "(Iteration 1901 / 1910) loss: 1.031867\n",
      "(Epoch 5 / 5) train acc: 0.623000; val_acc: 0.606000\n",
      "__________________________________________\n",
      "__________________________________________\n",
      "Now Using:  500 ,  0.001 ,  0.001 ,  0.0001\n",
      "(Iteration 1 / 1910) loss: 2.304814\n",
      "(Epoch 0 / 5) train acc: 0.123000; val_acc: 0.128000\n"
     ]
    },
    {
     "ename": "KeyboardInterrupt",
     "evalue": "",
     "output_type": "error",
     "traceback": [
      "\u001b[0;31m---------------------------------------------------------------------------\u001b[0m",
      "\u001b[0;31mKeyboardInterrupt\u001b[0m                         Traceback (most recent call last)",
      "\u001b[0;32m<ipython-input-189-c6d2f85e01a8>\u001b[0m in \u001b[0;36m<module>\u001b[0;34m\u001b[0m\n\u001b[1;32m     27\u001b[0m                     },\n\u001b[1;32m     28\u001b[0m                     verbose=True, print_every=50)\n\u001b[0;32m---> 29\u001b[0;31m                 \u001b[0mbest_solver\u001b[0m\u001b[0;34m.\u001b[0m\u001b[0mtrain\u001b[0m\u001b[0;34m(\u001b[0m\u001b[0;34m)\u001b[0m\u001b[0;34m\u001b[0m\u001b[0;34m\u001b[0m\u001b[0m\n\u001b[0m\u001b[1;32m     30\u001b[0m                 \u001b[0mval_acc\u001b[0m \u001b[0;34m=\u001b[0m \u001b[0mnp\u001b[0m\u001b[0;34m.\u001b[0m\u001b[0mmax\u001b[0m\u001b[0;34m(\u001b[0m\u001b[0mbest_solver\u001b[0m\u001b[0;34m.\u001b[0m\u001b[0mval_acc_history\u001b[0m\u001b[0;34m)\u001b[0m\u001b[0;34m\u001b[0m\u001b[0;34m\u001b[0m\u001b[0m\n\u001b[1;32m     31\u001b[0m                 \u001b[0mbest_val_accuracies\u001b[0m\u001b[0;34m[\u001b[0m\u001b[0mval_acc\u001b[0m\u001b[0;34m]\u001b[0m \u001b[0;34m=\u001b[0m \u001b[0;34m[\u001b[0m\u001b[0mhidden_dem\u001b[0m\u001b[0;34m,\u001b[0m \u001b[0mreg\u001b[0m\u001b[0;34m,\u001b[0m \u001b[0mweight_scale\u001b[0m\u001b[0;34m,\u001b[0m \u001b[0mlearning_rate\u001b[0m\u001b[0;34m]\u001b[0m\u001b[0;34m\u001b[0m\u001b[0;34m\u001b[0m\u001b[0m\n",
      "\u001b[0;32m~/Downloads/assignment1_python3/deeplearning/solver.py\u001b[0m in \u001b[0;36mtrain\u001b[0;34m(self)\u001b[0m\n\u001b[1;32m    221\u001b[0m \u001b[0;34m\u001b[0m\u001b[0m\n\u001b[1;32m    222\u001b[0m         \u001b[0;32mfor\u001b[0m \u001b[0mt\u001b[0m \u001b[0;32min\u001b[0m \u001b[0mrange\u001b[0m\u001b[0;34m(\u001b[0m\u001b[0mnum_iterations\u001b[0m\u001b[0;34m)\u001b[0m\u001b[0;34m:\u001b[0m\u001b[0;34m\u001b[0m\u001b[0;34m\u001b[0m\u001b[0m\n\u001b[0;32m--> 223\u001b[0;31m             \u001b[0mself\u001b[0m\u001b[0;34m.\u001b[0m\u001b[0m_step\u001b[0m\u001b[0;34m(\u001b[0m\u001b[0;34m)\u001b[0m\u001b[0;34m\u001b[0m\u001b[0;34m\u001b[0m\u001b[0m\n\u001b[0m\u001b[1;32m    224\u001b[0m \u001b[0;34m\u001b[0m\u001b[0m\n\u001b[1;32m    225\u001b[0m             \u001b[0;31m# Maybe print training loss\u001b[0m\u001b[0;34m\u001b[0m\u001b[0;34m\u001b[0m\u001b[0;34m\u001b[0m\u001b[0m\n",
      "\u001b[0;32m~/Downloads/assignment1_python3/deeplearning/solver.py\u001b[0m in \u001b[0;36m_step\u001b[0;34m(self)\u001b[0m\n\u001b[1;32m    161\u001b[0m \u001b[0;34m\u001b[0m\u001b[0m\n\u001b[1;32m    162\u001b[0m         \u001b[0;31m# Compute loss and gradient\u001b[0m\u001b[0;34m\u001b[0m\u001b[0;34m\u001b[0m\u001b[0;34m\u001b[0m\u001b[0m\n\u001b[0;32m--> 163\u001b[0;31m         \u001b[0mloss\u001b[0m\u001b[0;34m,\u001b[0m \u001b[0mgrads\u001b[0m \u001b[0;34m=\u001b[0m \u001b[0mself\u001b[0m\u001b[0;34m.\u001b[0m\u001b[0mmodel\u001b[0m\u001b[0;34m.\u001b[0m\u001b[0mloss\u001b[0m\u001b[0;34m(\u001b[0m\u001b[0mX_batch\u001b[0m\u001b[0;34m,\u001b[0m \u001b[0my_batch\u001b[0m\u001b[0;34m)\u001b[0m\u001b[0;34m\u001b[0m\u001b[0;34m\u001b[0m\u001b[0m\n\u001b[0m\u001b[1;32m    164\u001b[0m         \u001b[0mself\u001b[0m\u001b[0;34m.\u001b[0m\u001b[0mloss_history\u001b[0m\u001b[0;34m.\u001b[0m\u001b[0mappend\u001b[0m\u001b[0;34m(\u001b[0m\u001b[0mloss\u001b[0m\u001b[0;34m)\u001b[0m\u001b[0;34m\u001b[0m\u001b[0;34m\u001b[0m\u001b[0m\n\u001b[1;32m    165\u001b[0m \u001b[0;34m\u001b[0m\u001b[0m\n",
      "\u001b[0;32m~/Downloads/assignment1_python3/deeplearning/classifiers/cnn.py\u001b[0m in \u001b[0;36mloss\u001b[0;34m(self, X, y)\u001b[0m\n\u001b[1;32m    108\u001b[0m \u001b[0;34m\u001b[0m\u001b[0m\n\u001b[1;32m    109\u001b[0m         \u001b[0mdx3\u001b[0m\u001b[0;34m,\u001b[0m \u001b[0mgradW3\u001b[0m\u001b[0;34m,\u001b[0m \u001b[0mgrads\u001b[0m\u001b[0;34m[\u001b[0m\u001b[0;34m\"b3\"\u001b[0m\u001b[0;34m]\u001b[0m \u001b[0;34m=\u001b[0m \u001b[0maffine_backward\u001b[0m\u001b[0;34m(\u001b[0m\u001b[0mgradx\u001b[0m\u001b[0;34m,\u001b[0m \u001b[0ma_cache\u001b[0m\u001b[0;34m)\u001b[0m\u001b[0;34m\u001b[0m\u001b[0;34m\u001b[0m\u001b[0m\n\u001b[0;32m--> 110\u001b[0;31m         \u001b[0mdx2\u001b[0m\u001b[0;34m,\u001b[0m \u001b[0mgradW2\u001b[0m\u001b[0;34m,\u001b[0m \u001b[0mgrads\u001b[0m\u001b[0;34m[\u001b[0m\u001b[0;34m\"b2\"\u001b[0m\u001b[0;34m]\u001b[0m \u001b[0;34m=\u001b[0m \u001b[0maffine_relu_backward\u001b[0m\u001b[0;34m(\u001b[0m\u001b[0mdx3\u001b[0m\u001b[0;34m,\u001b[0m \u001b[0mar_cache\u001b[0m\u001b[0;34m)\u001b[0m\u001b[0;34m\u001b[0m\u001b[0;34m\u001b[0m\u001b[0m\n\u001b[0m\u001b[1;32m    111\u001b[0m         \u001b[0mdx1\u001b[0m\u001b[0;34m,\u001b[0m \u001b[0mgradW1\u001b[0m\u001b[0;34m,\u001b[0m \u001b[0mgrads\u001b[0m\u001b[0;34m[\u001b[0m\u001b[0;34m\"b1\"\u001b[0m\u001b[0;34m]\u001b[0m \u001b[0;34m=\u001b[0m \u001b[0mconv_relu_pool_backward\u001b[0m\u001b[0;34m(\u001b[0m\u001b[0mdx2\u001b[0m\u001b[0;34m,\u001b[0m \u001b[0mcrp_cache\u001b[0m\u001b[0;34m)\u001b[0m\u001b[0;34m\u001b[0m\u001b[0;34m\u001b[0m\u001b[0m\n\u001b[1;32m    112\u001b[0m         \u001b[0mgrads\u001b[0m\u001b[0;34m[\u001b[0m\u001b[0;34m\"W3\"\u001b[0m\u001b[0;34m]\u001b[0m \u001b[0;34m=\u001b[0m \u001b[0mgradW3\u001b[0m \u001b[0;34m+\u001b[0m \u001b[0;34m(\u001b[0m\u001b[0mself\u001b[0m\u001b[0;34m.\u001b[0m\u001b[0mreg\u001b[0m \u001b[0;34m*\u001b[0m \u001b[0mself\u001b[0m\u001b[0;34m.\u001b[0m\u001b[0mparams\u001b[0m\u001b[0;34m[\u001b[0m\u001b[0;34m\"W3\"\u001b[0m\u001b[0;34m]\u001b[0m\u001b[0;34m)\u001b[0m\u001b[0;34m\u001b[0m\u001b[0;34m\u001b[0m\u001b[0m\n",
      "\u001b[0;32m~/Downloads/assignment1_python3/deeplearning/layer_utils.py\u001b[0m in \u001b[0;36maffine_relu_backward\u001b[0;34m(dout, cache)\u001b[0m\n\u001b[1;32m     26\u001b[0m     \"\"\"\n\u001b[1;32m     27\u001b[0m     \u001b[0mfc_cache\u001b[0m\u001b[0;34m,\u001b[0m \u001b[0mrelu_cache\u001b[0m \u001b[0;34m=\u001b[0m \u001b[0mcache\u001b[0m\u001b[0;34m\u001b[0m\u001b[0;34m\u001b[0m\u001b[0m\n\u001b[0;32m---> 28\u001b[0;31m     \u001b[0mda\u001b[0m \u001b[0;34m=\u001b[0m \u001b[0mrelu_backward\u001b[0m\u001b[0;34m(\u001b[0m\u001b[0mdout\u001b[0m\u001b[0;34m,\u001b[0m \u001b[0mrelu_cache\u001b[0m\u001b[0;34m)\u001b[0m\u001b[0;34m\u001b[0m\u001b[0;34m\u001b[0m\u001b[0m\n\u001b[0m\u001b[1;32m     29\u001b[0m     \u001b[0mdx\u001b[0m\u001b[0;34m,\u001b[0m \u001b[0mdw\u001b[0m\u001b[0;34m,\u001b[0m \u001b[0mdb\u001b[0m \u001b[0;34m=\u001b[0m \u001b[0maffine_backward\u001b[0m\u001b[0;34m(\u001b[0m\u001b[0mda\u001b[0m\u001b[0;34m,\u001b[0m \u001b[0mfc_cache\u001b[0m\u001b[0;34m)\u001b[0m\u001b[0;34m\u001b[0m\u001b[0;34m\u001b[0m\u001b[0m\n\u001b[1;32m     30\u001b[0m     \u001b[0;32mreturn\u001b[0m \u001b[0mdx\u001b[0m\u001b[0;34m,\u001b[0m \u001b[0mdw\u001b[0m\u001b[0;34m,\u001b[0m \u001b[0mdb\u001b[0m\u001b[0;34m\u001b[0m\u001b[0;34m\u001b[0m\u001b[0m\n",
      "\u001b[0;32m~/Downloads/assignment1_python3/deeplearning/layers.py\u001b[0m in \u001b[0;36mrelu_backward\u001b[0;34m(dout, cache)\u001b[0m\n\u001b[1;32m    104\u001b[0m     \u001b[0;31m#############################################################################\u001b[0m\u001b[0;34m\u001b[0m\u001b[0;34m\u001b[0m\u001b[0;34m\u001b[0m\u001b[0m\n\u001b[1;32m    105\u001b[0m     \u001b[0;31m# dx = dout * np.array([1 if xi > 0 else 0 for xi in x])\u001b[0m\u001b[0;34m\u001b[0m\u001b[0;34m\u001b[0m\u001b[0;34m\u001b[0m\u001b[0m\n\u001b[0;32m--> 106\u001b[0;31m     \u001b[0mdx\u001b[0m \u001b[0;34m=\u001b[0m \u001b[0mnp\u001b[0m\u001b[0;34m.\u001b[0m\u001b[0mmultiply\u001b[0m\u001b[0;34m(\u001b[0m\u001b[0mdout\u001b[0m\u001b[0;34m,\u001b[0m \u001b[0mnp\u001b[0m\u001b[0;34m.\u001b[0m\u001b[0mwhere\u001b[0m\u001b[0;34m(\u001b[0m\u001b[0mx\u001b[0m \u001b[0;34m>\u001b[0m \u001b[0;36m0\u001b[0m\u001b[0;34m,\u001b[0m \u001b[0;36m1\u001b[0m\u001b[0;34m,\u001b[0m \u001b[0;36m0\u001b[0m\u001b[0;34m)\u001b[0m\u001b[0;34m)\u001b[0m\u001b[0;34m\u001b[0m\u001b[0;34m\u001b[0m\u001b[0m\n\u001b[0m\u001b[1;32m    107\u001b[0m     \u001b[0;31m#############################################################################\u001b[0m\u001b[0;34m\u001b[0m\u001b[0;34m\u001b[0m\u001b[0;34m\u001b[0m\u001b[0m\n\u001b[1;32m    108\u001b[0m     \u001b[0;31m#                             END OF YOUR CODE                              #\u001b[0m\u001b[0;34m\u001b[0m\u001b[0;34m\u001b[0m\u001b[0;34m\u001b[0m\u001b[0m\n",
      "\u001b[0;31mKeyboardInterrupt\u001b[0m: "
     ]
    }
   ],
   "source": [
    "# # Train a really good model on CIFAR-10\n",
    "# np.random.seed(30)\n",
    "# hidden_dims = [50, 500]\n",
    "# regs = [1e-3, 1e-4, 1e-5]\n",
    "# weight_scales = [1e-3, 1e-4, 1e-5]\n",
    "# learning_rates = [1e-4, 1e-5]\n",
    "# learning_rate = 1e-4\n",
    "# # Dict indexed by a validation accuracy and maps that to the hyperparam values that obtained that accuracy\n",
    "# best_val_accuracies = {}\n",
    "# # from a check already run\n",
    "# best_val_accuracies[50, 0.001, 0.001, 0.0001] = .627\n",
    "# for reg in regs:\n",
    "#     for hidden_dim in hidden_dims:\n",
    "#         for weight_scale in weight_scales:\n",
    "#             # for learning_rate in learning_rates:\n",
    "#             if (hidden_dim == 50 and reg == 1e-3 and weight_scale == 1e-3):\n",
    "#                 pass\n",
    "#             else:\n",
    "#                 print('__________________________________________')\n",
    "#                 print('Now Using: ', hidden_dim, ', ', reg, ', ', weight_scale, ', ', learning_rate)\n",
    "#                 best_model = ThreeLayerConvNet(weight_scale=weight_scale, hidden_dim=hidden_dim, reg=reg, filter_size=5)\n",
    "#                 best_solver = Solver(best_model, data,\n",
    "#                     num_epochs=5, batch_size=128,\n",
    "#                     update_rule='adam',\n",
    "#                     optim_config={\n",
    "#                       'learning_rate': learning_rate,\n",
    "#                     },\n",
    "#                     verbose=True, print_every=50)\n",
    "#                 best_solver.train()\n",
    "#                 val_acc = np.max(best_solver.val_acc_history)\n",
    "#                 best_val_accuracies[val_acc] = [hidden_dem, reg, weight_scale, learning_rate]\n",
    "#                 print('__________________________________________')"
   ]
  },
  {
   "cell_type": "code",
   "execution_count": 195,
   "metadata": {},
   "outputs": [],
   "source": [
    "from deeplearning.classifiers.convnet import *"
   ]
  },
  {
   "cell_type": "code",
   "execution_count": 219,
   "metadata": {
    "scrolled": true
   },
   "outputs": [
    {
     "name": "stdout",
     "output_type": "stream",
     "text": [
      "finished init\n"
     ]
    },
    {
     "ename": "KeyError",
     "evalue": "'b4'",
     "output_type": "error",
     "traceback": [
      "\u001b[0;31m---------------------------------------------------------------------------\u001b[0m",
      "\u001b[0;31mKeyError\u001b[0m                                  Traceback (most recent call last)",
      "\u001b[0;32m<ipython-input-219-a116f139c34f>\u001b[0m in \u001b[0;36m<module>\u001b[0;34m\u001b[0m\n\u001b[1;32m      8\u001b[0m     },\n\u001b[1;32m      9\u001b[0m     verbose=True, print_every=50)\n\u001b[0;32m---> 10\u001b[0;31m \u001b[0munique_solver2\u001b[0m\u001b[0;34m.\u001b[0m\u001b[0mtrain\u001b[0m\u001b[0;34m(\u001b[0m\u001b[0;34m)\u001b[0m\u001b[0;34m\u001b[0m\u001b[0;34m\u001b[0m\u001b[0m\n\u001b[0m",
      "\u001b[0;32m~/Downloads/assignment1_python3/deeplearning/solver.py\u001b[0m in \u001b[0;36mtrain\u001b[0;34m(self)\u001b[0m\n\u001b[1;32m    221\u001b[0m \u001b[0;34m\u001b[0m\u001b[0m\n\u001b[1;32m    222\u001b[0m         \u001b[0;32mfor\u001b[0m \u001b[0mt\u001b[0m \u001b[0;32min\u001b[0m \u001b[0mrange\u001b[0m\u001b[0;34m(\u001b[0m\u001b[0mnum_iterations\u001b[0m\u001b[0;34m)\u001b[0m\u001b[0;34m:\u001b[0m\u001b[0;34m\u001b[0m\u001b[0;34m\u001b[0m\u001b[0m\n\u001b[0;32m--> 223\u001b[0;31m             \u001b[0mself\u001b[0m\u001b[0;34m.\u001b[0m\u001b[0m_step\u001b[0m\u001b[0;34m(\u001b[0m\u001b[0;34m)\u001b[0m\u001b[0;34m\u001b[0m\u001b[0;34m\u001b[0m\u001b[0m\n\u001b[0m\u001b[1;32m    224\u001b[0m \u001b[0;34m\u001b[0m\u001b[0m\n\u001b[1;32m    225\u001b[0m             \u001b[0;31m# Maybe print training loss\u001b[0m\u001b[0;34m\u001b[0m\u001b[0;34m\u001b[0m\u001b[0;34m\u001b[0m\u001b[0m\n",
      "\u001b[0;32m~/Downloads/assignment1_python3/deeplearning/solver.py\u001b[0m in \u001b[0;36m_step\u001b[0;34m(self)\u001b[0m\n\u001b[1;32m    166\u001b[0m         \u001b[0;31m# Perform a parameter update\u001b[0m\u001b[0;34m\u001b[0m\u001b[0;34m\u001b[0m\u001b[0;34m\u001b[0m\u001b[0m\n\u001b[1;32m    167\u001b[0m         \u001b[0;32mfor\u001b[0m \u001b[0mp\u001b[0m\u001b[0;34m,\u001b[0m \u001b[0mw\u001b[0m \u001b[0;32min\u001b[0m \u001b[0mself\u001b[0m\u001b[0;34m.\u001b[0m\u001b[0mmodel\u001b[0m\u001b[0;34m.\u001b[0m\u001b[0mparams\u001b[0m\u001b[0;34m.\u001b[0m\u001b[0mitems\u001b[0m\u001b[0;34m(\u001b[0m\u001b[0;34m)\u001b[0m\u001b[0;34m:\u001b[0m\u001b[0;34m\u001b[0m\u001b[0;34m\u001b[0m\u001b[0m\n\u001b[0;32m--> 168\u001b[0;31m             \u001b[0mdw\u001b[0m \u001b[0;34m=\u001b[0m \u001b[0mgrads\u001b[0m\u001b[0;34m[\u001b[0m\u001b[0mp\u001b[0m\u001b[0;34m]\u001b[0m\u001b[0;34m\u001b[0m\u001b[0;34m\u001b[0m\u001b[0m\n\u001b[0m\u001b[1;32m    169\u001b[0m             \u001b[0mconfig\u001b[0m \u001b[0;34m=\u001b[0m \u001b[0mself\u001b[0m\u001b[0;34m.\u001b[0m\u001b[0moptim_configs\u001b[0m\u001b[0;34m[\u001b[0m\u001b[0mp\u001b[0m\u001b[0;34m]\u001b[0m\u001b[0;34m\u001b[0m\u001b[0;34m\u001b[0m\u001b[0m\n\u001b[1;32m    170\u001b[0m             \u001b[0mnext_w\u001b[0m\u001b[0;34m,\u001b[0m \u001b[0mnext_config\u001b[0m \u001b[0;34m=\u001b[0m \u001b[0mself\u001b[0m\u001b[0;34m.\u001b[0m\u001b[0mupdate_rule\u001b[0m\u001b[0;34m(\u001b[0m\u001b[0mw\u001b[0m\u001b[0;34m,\u001b[0m \u001b[0mdw\u001b[0m\u001b[0;34m,\u001b[0m \u001b[0mconfig\u001b[0m\u001b[0;34m)\u001b[0m\u001b[0;34m\u001b[0m\u001b[0;34m\u001b[0m\u001b[0m\n",
      "\u001b[0;31mKeyError\u001b[0m: 'b4'"
     ]
    }
   ],
   "source": [
    "np.random.seed(35)\n",
    "unique_model2 = BestConvNet2(dropout=0.5, weight_scale=.001, hidden_dim=125, reg=.1, filter_size = 5, num_filters=32)\n",
    "unique_solver2 = Solver(unique_model2, data,\n",
    "    num_epochs=8, batch_size=64,\n",
    "    update_rule='adam',\n",
    "    optim_config={\n",
    "      'learning_rate': .0001,\n",
    "    },\n",
    "    verbose=True, print_every=50)\n",
    "unique_solver2.train()"
   ]
  },
  {
   "cell_type": "code",
   "execution_count": null,
   "metadata": {},
   "outputs": [],
   "source": []
  },
  {
   "cell_type": "code",
   "execution_count": 192,
   "metadata": {},
   "outputs": [],
   "source": [
    "np.random.seed(21)"
   ]
  },
  {
   "cell_type": "code",
   "execution_count": 193,
   "metadata": {
    "scrolled": true
   },
   "outputs": [
    {
     "name": "stdout",
     "output_type": "stream",
     "text": [
      "finished init\n",
      "(Iteration 1 / 3820) loss: 2.301556\n",
      "(Epoch 0 / 10) train acc: 0.162000; val_acc: 0.177000\n",
      "(Iteration 51 / 3820) loss: 2.135918\n",
      "(Iteration 101 / 3820) loss: 2.016089\n",
      "(Iteration 151 / 3820) loss: 1.859028\n",
      "(Iteration 201 / 3820) loss: 1.788502\n",
      "(Iteration 251 / 3820) loss: 1.760201\n",
      "(Iteration 301 / 3820) loss: 1.580417\n",
      "(Iteration 351 / 3820) loss: 1.509610\n",
      "(Epoch 1 / 10) train acc: 0.530000; val_acc: 0.545000\n",
      "(Iteration 401 / 3820) loss: 1.399582\n",
      "(Iteration 451 / 3820) loss: 1.503661\n",
      "(Iteration 501 / 3820) loss: 1.379342\n",
      "(Iteration 551 / 3820) loss: 1.322959\n",
      "(Iteration 601 / 3820) loss: 1.137837\n",
      "(Iteration 651 / 3820) loss: 1.215005\n",
      "(Iteration 701 / 3820) loss: 1.272928\n",
      "(Iteration 751 / 3820) loss: 1.265885\n",
      "(Epoch 2 / 10) train acc: 0.645000; val_acc: 0.612000\n",
      "(Iteration 801 / 3820) loss: 1.044078\n",
      "(Iteration 851 / 3820) loss: 1.108782\n",
      "(Iteration 901 / 3820) loss: 1.132647\n",
      "(Iteration 951 / 3820) loss: 0.995766\n",
      "(Iteration 1001 / 3820) loss: 0.976112\n",
      "(Iteration 1051 / 3820) loss: 1.017830\n",
      "(Iteration 1101 / 3820) loss: 0.982808\n",
      "(Epoch 3 / 10) train acc: 0.668000; val_acc: 0.626000\n",
      "(Iteration 1151 / 3820) loss: 0.875908\n",
      "(Iteration 1201 / 3820) loss: 0.865537\n",
      "(Iteration 1251 / 3820) loss: 0.725314\n",
      "(Iteration 1301 / 3820) loss: 0.940358\n",
      "(Iteration 1351 / 3820) loss: 0.906221\n",
      "(Iteration 1401 / 3820) loss: 0.881735\n",
      "(Iteration 1451 / 3820) loss: 0.753792\n",
      "(Iteration 1501 / 3820) loss: 0.847924\n",
      "(Epoch 4 / 10) train acc: 0.738000; val_acc: 0.655000\n",
      "(Iteration 1551 / 3820) loss: 0.851545\n",
      "(Iteration 1601 / 3820) loss: 0.763660\n",
      "(Iteration 1651 / 3820) loss: 0.720038\n",
      "(Iteration 1701 / 3820) loss: 0.742749\n",
      "(Iteration 1751 / 3820) loss: 0.731442\n",
      "(Iteration 1801 / 3820) loss: 0.767198\n",
      "(Iteration 1851 / 3820) loss: 0.631535\n",
      "(Iteration 1901 / 3820) loss: 0.752227\n",
      "(Epoch 5 / 10) train acc: 0.771000; val_acc: 0.636000\n",
      "(Iteration 1951 / 3820) loss: 0.722535\n",
      "(Iteration 2001 / 3820) loss: 0.746354\n",
      "(Iteration 2051 / 3820) loss: 0.837998\n",
      "(Iteration 2101 / 3820) loss: 0.675084\n",
      "(Iteration 2151 / 3820) loss: 0.582162\n",
      "(Iteration 2201 / 3820) loss: 0.657684\n",
      "(Iteration 2251 / 3820) loss: 0.649318\n",
      "(Epoch 6 / 10) train acc: 0.816000; val_acc: 0.655000\n",
      "(Iteration 2301 / 3820) loss: 0.512487\n",
      "(Iteration 2351 / 3820) loss: 0.598232\n",
      "(Iteration 2401 / 3820) loss: 0.623046\n",
      "(Iteration 2451 / 3820) loss: 0.561495\n",
      "(Iteration 2501 / 3820) loss: 0.650099\n",
      "(Iteration 2551 / 3820) loss: 0.607837\n",
      "(Iteration 2601 / 3820) loss: 0.531900\n",
      "(Iteration 2651 / 3820) loss: 0.578233\n",
      "(Epoch 7 / 10) train acc: 0.801000; val_acc: 0.666000\n",
      "(Iteration 2701 / 3820) loss: 0.598356\n",
      "(Iteration 2751 / 3820) loss: 0.513954\n",
      "(Iteration 2801 / 3820) loss: 0.568369\n",
      "(Iteration 2851 / 3820) loss: 0.530034\n",
      "(Iteration 2901 / 3820) loss: 0.459162\n",
      "(Iteration 2951 / 3820) loss: 0.497177\n",
      "(Iteration 3001 / 3820) loss: 0.433211\n",
      "(Iteration 3051 / 3820) loss: 0.558943\n",
      "(Epoch 8 / 10) train acc: 0.853000; val_acc: 0.661000\n",
      "(Iteration 3101 / 3820) loss: 0.438553\n",
      "(Iteration 3151 / 3820) loss: 0.458700\n",
      "(Iteration 3201 / 3820) loss: 0.551480\n",
      "(Iteration 3251 / 3820) loss: 0.551404\n",
      "(Iteration 3301 / 3820) loss: 0.384304\n",
      "(Iteration 3351 / 3820) loss: 0.475048\n",
      "(Iteration 3401 / 3820) loss: 0.591153\n",
      "(Epoch 9 / 10) train acc: 0.847000; val_acc: 0.657000\n",
      "(Iteration 3451 / 3820) loss: 0.458150\n",
      "(Iteration 3501 / 3820) loss: 0.420041\n",
      "(Iteration 3551 / 3820) loss: 0.430251\n",
      "(Iteration 3601 / 3820) loss: 0.509619\n",
      "(Iteration 3651 / 3820) loss: 0.443023\n",
      "(Iteration 3701 / 3820) loss: 0.411429\n",
      "(Iteration 3751 / 3820) loss: 0.351850\n",
      "(Iteration 3801 / 3820) loss: 0.298065\n",
      "(Epoch 10 / 10) train acc: 0.888000; val_acc: 0.663000\n"
     ]
    }
   ],
   "source": [
    "np.random.seed(42)\n",
    "unique_model = BestConvNet(weight_scale=.001, hidden_dim=100, reg=.01, filter_size = 5, num_filters=16)\n",
    "unique_solver = Solver(unique_model, data,\n",
    "    num_epochs=10, batch_size=128,\n",
    "    update_rule='adam',\n",
    "    optim_config={\n",
    "      'learning_rate': .0001,\n",
    "    },\n",
    "    verbose=True, print_every=50)\n",
    "unique_solver.train()"
   ]
  },
  {
   "cell_type": "markdown",
   "metadata": {},
   "source": [
    "# Extra Credit Description\n",
    "If you implement any additional features for extra credit, clearly describe them here with pointers to any code in this or other files if applicable."
   ]
  },
  {
   "cell_type": "markdown",
   "metadata": {},
   "source": [
    "I made a model architecture with guidance from the tips above. It can be found under Classifiers/convnet.py. The architecture is: <br> \n",
    "conv - relu - 2x2 max pool - [affine - batch_normalization - relu] x 2 - affine - softmax \n",
    "    <br>\n",
    "I also changed the filter size to be 5x5 after searching online and seeing that even 5x5 is considered a rather large filter. I also changed the number of filters to 16 which along with the batchnorm addition and reduced filter size greatly improved training time. I tried a hyperparameter search for the regular ThreeLayerConv but it took too long to finish entirely so I just used some of those results to help pick some values for my own architecture's hyperparameter values. I also referenced the batchnorm notebook where we plotted weight_scale and accuracies to try to find a good weight_scale value."
   ]
  },
  {
   "cell_type": "code",
   "execution_count": 207,
   "metadata": {},
   "outputs": [],
   "source": [
    "X_val = data['X_val']\n",
    "y_val = data['y_val']\n",
    "X_test = data['X_test']\n",
    "y_test = data['y_test']"
   ]
  },
  {
   "cell_type": "code",
   "execution_count": 213,
   "metadata": {},
   "outputs": [
    {
     "name": "stdout",
     "output_type": "stream",
     "text": [
      "Validation set accuracy:  0.689\n",
      "Test set accuracy:  0.668\n"
     ]
    }
   ],
   "source": [
    "best_model = unique_model\n",
    "y_test_pred = np.argmax(best_model.loss(X_test), axis=1)\n",
    "y_val_pred = np.argmax(best_model.loss(X_val), axis=1)\n",
    "print ('Validation set accuracy: ', (y_val_pred == y_val).mean())\n",
    "print ('Test set accuracy: ', (y_test_pred == y_test).mean())"
   ]
  },
  {
   "cell_type": "markdown",
   "metadata": {},
   "source": [
    "### Accuracies <br>\n",
    "Training: 88%<br>\n",
    "Validation: 69%<br>\n",
    "Test: 67%"
   ]
  },
  {
   "cell_type": "code",
   "execution_count": null,
   "metadata": {},
   "outputs": [],
   "source": []
  }
 ],
 "metadata": {
  "kernelspec": {
   "display_name": "Python 3",
   "language": "python",
   "name": "python3"
  },
  "language_info": {
   "codemirror_mode": {
    "name": "ipython",
    "version": 3
   },
   "file_extension": ".py",
   "mimetype": "text/x-python",
   "name": "python",
   "nbconvert_exporter": "python",
   "pygments_lexer": "ipython3",
   "version": "3.7.4"
  }
 },
 "nbformat": 4,
 "nbformat_minor": 1
}
